{
 "cells": [
  {
   "cell_type": "markdown",
   "metadata": {},
   "source": [
    "# Suggesting Algorithm and Tools to be used for the given problem (Topic)"
   ]
  },
  {
   "cell_type": "markdown",
   "metadata": {},
   "source": [
    "### Installations\n",
    "##### pip install nltk\n",
    "##### pip install sklearn"
   ]
  },
  {
   "cell_type": "markdown",
   "metadata": {},
   "source": [
    "### Preparing nltk"
   ]
  },
  {
   "cell_type": "code",
   "execution_count": 2,
   "metadata": {},
   "outputs": [
    {
     "name": "stdout",
     "output_type": "stream",
     "text": [
      "[nltk_data] Downloading package punkt to\n",
      "[nltk_data]     C:\\Users\\Aniket\\AppData\\Roaming\\nltk_data...\n",
      "[nltk_data]   Package punkt is already up-to-date!\n"
     ]
    },
    {
     "data": {
      "text/plain": [
       "True"
      ]
     },
     "execution_count": 2,
     "metadata": {},
     "output_type": "execute_result"
    }
   ],
   "source": [
    "import nltk\n",
    "nltk.download('punkt')"
   ]
  },
  {
   "cell_type": "markdown",
   "metadata": {},
   "source": [
    "### Importing other packages"
   ]
  },
  {
   "cell_type": "code",
   "execution_count": 24,
   "metadata": {},
   "outputs": [],
   "source": [
    "import string\n",
    "from sklearn.feature_extraction.text import TfidfVectorizer"
   ]
  },
  {
   "cell_type": "markdown",
   "metadata": {},
   "source": [
    "### Cosine similarity function"
   ]
  },
  {
   "cell_type": "code",
   "execution_count": 25,
   "metadata": {},
   "outputs": [],
   "source": [
    "stemmer = nltk.stem.porter.PorterStemmer()\n",
    "remove_punctuation_map = dict((ord(char), None) for char in string.punctuation)\n",
    "\n",
    "def stem_tokens(tokens):\n",
    "    return [stemmer.stem(item) for item in tokens]\n",
    "\n",
    "# remove punctuation, lowercase, stem\n",
    "def normalize(text):\n",
    "    return stem_tokens(nltk.word_tokenize(text.lower().translate(remove_punctuation_map)))\n",
    "\n",
    "vectorizer = TfidfVectorizer(tokenizer=normalize, stop_words='english')\n",
    "\n",
    "def cosine_sim(text1, text2):\n",
    "    tfidf = vectorizer.fit_transform([text1, text2])\n",
    "    return ((tfidf * tfidf.T).A)[0, 1]\n"
   ]
  },
  {
   "cell_type": "markdown",
   "metadata": {},
   "source": [
    "### Code to load csv file "
   ]
  },
  {
   "cell_type": "code",
   "execution_count": 37,
   "metadata": {},
   "outputs": [],
   "source": [
    "# getRows(), takes the file name and returns the list of topics from the dataset\n",
    "import csv\n",
    "\n",
    "\n",
    "def getRows(filename):\n",
    "    topics = []\n",
    "    with open(filename, mode='r', encoding='utf8', errors='ignore') as csv_file:\n",
    "        csv_reader = csv.DictReader(csv_file)\n",
    "        line_count = 0\n",
    "        for row in csv_reader:\n",
    "            if line_count == 0:\n",
    "                line_count += 1\n",
    "            topics.append(row[\"Topic\"])\n",
    "            line_count += 1\n",
    "        return topics\n",
    "\n",
    "# getresult takes filename and the index of the row to be searched and \n",
    "# returns the algorithm and tools corresponding to that index \n",
    "def getresult(filename, index):\n",
    "    topics = []\n",
    "    with open(filename, mode='r', encoding='utf8', errors='ignore') as csv_file:\n",
    "        csv_reader = csv.DictReader(csv_file)\n",
    "        line_count = 0\n",
    "        for row in csv_reader:\n",
    "            if line_count == index:\n",
    "                print(\"Algorithm: %s\" % row[\"Algorithms\"] + \"\\nTools: %s\"% row[\"Tools used\"])\n",
    "                break\n",
    "            \n",
    "            line_count += 1\n"
   ]
  },
  {
   "cell_type": "code",
   "execution_count": 39,
   "metadata": {},
   "outputs": [
    {
     "name": "stdout",
     "output_type": "stream",
     "text": [
      "Loading file...\n",
      "Enter the search string: chatbot\n",
      "Algorithm: Naive Bayes Classifier\n",
      "Tools: Flask (Python Web Framework), Pycharm IDE\n"
     ]
    }
   ],
   "source": [
    "if __name__ == '__main__':\n",
    "    print('Loading file...')\n",
    "    # loading dataset.csv file\n",
    "    filename = 'dataset.csv'  # name of the file to be loaded \n",
    "    topic_list = getRows(filename)\n",
    "\n",
    "    input_string = input('Enter the search string: ')\n",
    "\n",
    "    cosine_list = {}\n",
    "    for i, x in enumerate(topic_list):\n",
    "        cosine_list.update({i: cosine_sim(x, input_string)})\n",
    "    sorted_list = sorted(cosine_list.items(), key=lambda x: x[1], reverse=True)\n",
    "\n",
    "    # get the index of the top result\n",
    "    for x in sorted_list[:1]:\n",
    "        # print(x[0])\n",
    "        getresult(filename, x[0])  # x[0] is the index of required record in dataset.csv file"
   ]
  },
  {
   "cell_type": "code",
   "execution_count": null,
   "metadata": {},
   "outputs": [],
   "source": []
  }
 ],
 "metadata": {
  "kernelspec": {
   "display_name": "Python 3",
   "language": "python",
   "name": "python3"
  },
  "language_info": {
   "codemirror_mode": {
    "name": "ipython",
    "version": 3
   },
   "file_extension": ".py",
   "mimetype": "text/x-python",
   "name": "python",
   "nbconvert_exporter": "python",
   "pygments_lexer": "ipython3",
   "version": "3.6.5"
  }
 },
 "nbformat": 4,
 "nbformat_minor": 2
}
